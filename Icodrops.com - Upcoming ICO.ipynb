{
 "cells": [
  {
   "cell_type": "code",
   "execution_count": 7,
   "id": "bf0cbb67",
   "metadata": {},
   "outputs": [],
   "source": [
    "import requests\n",
    "import time\n",
    "from bs4 import BeautifulSoup as BS\n",
    "from time import sleep\n",
    "import pandas as pd\n",
    "\n",
    "\n",
    "from selenium import webdriver    \n",
    "import chromedriver_autoinstaller\n",
    "from selenium.webdriver.chrome.service import Service\n",
    "from selenium.webdriver.common.by import By\n",
    "#chromedriver_autoinstaller.install()"
   ]
  },
  {
   "cell_type": "code",
   "execution_count": 4,
   "id": "b43dfd3d",
   "metadata": {},
   "outputs": [],
   "source": [
    "driver = webdriver.Chrome(service=Service())\n",
    "exchange_link = \"https://icodrops.com/category/upcoming-ico/\"\n",
    "driver.get(exchange_link)\n",
    "#driver.find_element(By.XPATH,\"//li[@id='tab-all']\").click()\n",
    "driver.find_element(By.XPATH,\"(//li[@id='tab-not_rated'])[1]\").click() #only not rated"
   ]
  },
  {
   "cell_type": "code",
   "execution_count": null,
   "id": "b180aa97",
   "metadata": {},
   "outputs": [],
   "source": [
    "page_data = driver.page_source\n",
    "soup = BS(page_data,'lxml')\n",
    "data = soup.find_all('div',class_='col-md-12 col-12 a_ico')\n",
    "links = []\n",
    "for i in data:\n",
    "    card_url = i.find('a').get(\"href\")\n",
    "    links.append(card_url)\n",
    "links"
   ]
  },
  {
   "cell_type": "code",
   "execution_count": null,
   "id": "c29c1a6b",
   "metadata": {},
   "outputs": [],
   "source": [
    "#clear duplicates\n",
    "result = [] \n",
    "for i in links: \n",
    "    if i not in result: \n",
    "        result.append(i) \n",
    "links = result"
   ]
  },
  {
   "cell_type": "code",
   "execution_count": null,
   "id": "ad85ed51",
   "metadata": {},
   "outputs": [],
   "source": [
    "web_sites = []\n",
    "names = []\n",
    "x=0\n",
    "for i in range(len(links)):\n",
    "    driver = webdriver.Chrome(service=Service())\n",
    "    exchange_link = links[i] # could easily be changed for previous ico with this link\n",
    "    driver.get(exchange_link)\n",
    "    single_page_data = driver.page_source\n",
    "    soup = BS(single_page_data,'lxml')\n",
    "    page_for_site = soup.find_all('div',class_=\"ico-right-col\")\n",
    "    name = soup.find('li',class_=\"breadcrumb-item active\").text\n",
    "    for site in page_for_site:\n",
    "        x = x + 1\n",
    "        web_site = site.find('a').get(\"href\")\n",
    "        web_site = web_site.split('?utm',1)[0]\n",
    "        web_sites.append(web_site)\n",
    "        names.append(name)\n",
    "        print(web_site + ' ' + name + ' ' + str(x))\n",
    "        time.sleep(random.uniform(0, 10))\n",
    "#        print(web_site.split('/?utm',1)[0])"
   ]
  },
  {
   "cell_type": "code",
   "execution_count": null,
   "id": "37fb9e5b",
   "metadata": {},
   "outputs": [],
   "source": [
    "df = pd.DataFrame(list(zip(names, web_sites)),\n",
    "               columns =['Name', 'Web_site'])\n",
    "df.to_clipboard()"
   ]
  }
 ],
 "metadata": {
  "kernelspec": {
   "display_name": "Python 3 (ipykernel)",
   "language": "python",
   "name": "python3"
  },
  "language_info": {
   "codemirror_mode": {
    "name": "ipython",
    "version": 3
   },
   "file_extension": ".py",
   "mimetype": "text/x-python",
   "name": "python",
   "nbconvert_exporter": "python",
   "pygments_lexer": "ipython3",
   "version": "3.9.12"
  }
 },
 "nbformat": 4,
 "nbformat_minor": 5
}
